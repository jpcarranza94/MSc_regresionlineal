{
 "cells": [
  {
   "cell_type": "markdown",
   "metadata": {},
   "source": [
    "# Regresión lineal univariable #\n",
    "\n",
    "### Predicción de precios de casas con la implementación de un modelo de regresión lineal ###\n",
    "\n",
    "El presente proyecto consiste en realizar un modelo de de regresión lineal univariable para la predicción de precios de apartamentos. La implementación del modelo será totalmente manual, sin utilizar Scikit-learn para su entrenamiento. \n",
    "\n",
    "\n",
    "### Modelo de regresión lineal ###\n",
    "\n",
    "Un modelo de regresión lineal busca encontrar la ecuación lineal que minimice el error cuadrado medio.\n",
    "\n",
    "La ecuación lineal:\n",
    "\n",
    "$f(x) = y = mx + b$\n",
    "\n",
    "donde: \n",
    "\n",
    "$y$ : Variable dependiente\n",
    "$x$ : Variable independiente\n",
    "$m$ : Pendiente\n",
    "$b$ : Intercepto\n",
    "\n",
    "Error cuadrado medio:\n",
    "\n",
    "$f(m,b) = \\frac{1}{N} \\sum_{i=1}^{n} (y_{i}−(mx_{i}+b))^2$\n",
    "\n",
    "donde:\n",
    "\n",
    "* $y_{i}$ : Valor real de cada dato en el dataset\n",
    "* $mx_{i}+b$ : Valor predecido por el modelo\n",
    "\n",
    "Para poder optimizar este modelo es necesario encontrar los valores de $m$ y $b$ que minimizan la función de costo.\n",
    "Esto se realiza a través de un aprendizaje por medio de *gradient descent*.\n",
    "\n",
    "<img src=\"regresionlineal.png\"\n",
    "     alt=\"regresionlineal\"\n",
    "     style=\"float: left; margin-right: 10px;\" />\n",
    "\n",
    "\n"
   ]
  },
  {
   "cell_type": "code",
   "execution_count": 4,
   "metadata": {},
   "outputs": [],
   "source": [
    "# Importación de librerías a utilizar\n",
    "\n",
    "import numpy as np\n",
    "import matplotlib.pyplot as plt\n",
    "import pandas as pd\n",
    "import sklearn as sklearn\n",
    "import seaborn as sb"
   ]
  },
  {
   "cell_type": "code",
   "execution_count": 6,
   "metadata": {},
   "outputs": [
    {
     "data": {
      "text/plain": [
       "array([[2.08500e+05, 7.00000e+00, 8.56000e+02, 8.00000e+00, 2.00300e+03,\n",
       "        6.50000e+01],\n",
       "       [1.81500e+05, 6.00000e+00, 1.26200e+03, 6.00000e+00, 1.97600e+03,\n",
       "        8.00000e+01],\n",
       "       [2.23500e+05, 7.00000e+00, 9.20000e+02, 6.00000e+00, 2.00100e+03,\n",
       "        6.80000e+01],\n",
       "       ...,\n",
       "       [2.66500e+05, 7.00000e+00, 1.18800e+03, 9.00000e+00, 1.94100e+03,\n",
       "        6.60000e+01],\n",
       "       [1.42125e+05, 5.00000e+00, 1.07800e+03, 5.00000e+00, 1.95000e+03,\n",
       "        6.80000e+01],\n",
       "       [1.47500e+05, 5.00000e+00, 1.25600e+03, 6.00000e+00, 1.96500e+03,\n",
       "        7.50000e+01]])"
      ]
     },
     "execution_count": 6,
     "metadata": {},
     "output_type": "execute_result"
    }
   ],
   "source": [
    "#Cargar dataset\n",
    "\n",
    "np.load('proyecto_training_data.npy')"
   ]
  }
 ],
 "metadata": {
  "kernelspec": {
   "display_name": "Python 3",
   "language": "python",
   "name": "python3"
  },
  "language_info": {
   "codemirror_mode": {
    "name": "ipython",
    "version": 3
   },
   "file_extension": ".py",
   "mimetype": "text/x-python",
   "name": "python",
   "nbconvert_exporter": "python",
   "pygments_lexer": "ipython3",
   "version": "3.7.3"
  }
 },
 "nbformat": 4,
 "nbformat_minor": 2
}
